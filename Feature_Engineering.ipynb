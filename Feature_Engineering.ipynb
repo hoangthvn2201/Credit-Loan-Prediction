{
 "cells": [
  {
   "cell_type": "code",
   "execution_count": 68,
   "metadata": {},
   "outputs": [],
   "source": [
    "import warnings\n",
    "import numpy as np\n",
    "import pandas as pd\n",
    "import seaborn as sns\n",
    "import missingno as msno\n",
    "import matplotlib.pyplot as plt\n",
    "warnings.filterwarnings(\"ignore\")\n",
    "sns.set_style(\"darkgrid\")\n",
    "from sklearn.linear_model import LogisticRegression\n",
    "from sklearn.tree import DecisionTreeClassifier\n",
    "from sklearn.ensemble import RandomForestClassifier,GradientBoostingClassifier\n",
    "from xgboost import XGBClassifier\n",
    "from sklearn.neighbors import KNeighborsClassifier\n",
    "from sklearn.svm import SVC\n",
    "from sklearn.naive_bayes import GaussianNB\n",
    "from sklearn.metrics import precision_score,recall_score,accuracy_score,roc_auc_score,roc_curve\n",
    "from sklearn.metrics import confusion_matrix,auc,r2_score,f1_score,confusion_matrix,roc_curve,precision_recall_curve\n",
    "import datetime\n",
    "from sklearn.preprocessing import LabelEncoder\n",
    "from sklearn import preprocessing\n",
    "from sklearn.preprocessing import StandardScaler\n",
    "from sklearn.model_selection import train_test_split\n",
    "import seaborn as sns\n",
    "from keras.layers import Dense, BatchNormalization, Dropout, LSTM\n",
    "from keras.models import Sequential\n",
    "#from keras.utils import to_categorical\n",
    "#from keras.optimizers import Adam\n",
    "from tensorflow.keras import regularizers\n",
    "from keras import callbacks"
   ]
  },
  {
   "cell_type": "markdown",
   "metadata": {},
   "source": [
    "# Loading data"
   ]
  },
  {
   "cell_type": "code",
   "execution_count": 69,
   "metadata": {},
   "outputs": [],
   "source": [
    "df = pd.read_csv('df_transformed.csv')"
   ]
  },
  {
   "cell_type": "code",
   "execution_count": 70,
   "metadata": {},
   "outputs": [],
   "source": [
    "X_scaled = pd.read_csv('feature_data_scaled.csv')"
   ]
  },
  {
   "cell_type": "code",
   "execution_count": 71,
   "metadata": {},
   "outputs": [
    {
     "data": {
      "text/html": [
       "<div>\n",
       "<style scoped>\n",
       "    .dataframe tbody tr th:only-of-type {\n",
       "        vertical-align: middle;\n",
       "    }\n",
       "\n",
       "    .dataframe tbody tr th {\n",
       "        vertical-align: top;\n",
       "    }\n",
       "\n",
       "    .dataframe thead th {\n",
       "        text-align: right;\n",
       "    }\n",
       "</style>\n",
       "<table border=\"1\" class=\"dataframe\">\n",
       "  <thead>\n",
       "    <tr style=\"text-align: right;\">\n",
       "      <th></th>\n",
       "      <th>0</th>\n",
       "      <th>1</th>\n",
       "      <th>2</th>\n",
       "      <th>3</th>\n",
       "      <th>4</th>\n",
       "      <th>5</th>\n",
       "      <th>6</th>\n",
       "      <th>7</th>\n",
       "      <th>8</th>\n",
       "      <th>9</th>\n",
       "      <th>...</th>\n",
       "      <th>22</th>\n",
       "      <th>23</th>\n",
       "      <th>24</th>\n",
       "      <th>25</th>\n",
       "      <th>26</th>\n",
       "      <th>27</th>\n",
       "      <th>28</th>\n",
       "      <th>29</th>\n",
       "      <th>30</th>\n",
       "      <th>31</th>\n",
       "    </tr>\n",
       "  </thead>\n",
       "  <tbody>\n",
       "    <tr>\n",
       "      <th>0</th>\n",
       "      <td>-1.731475</td>\n",
       "      <td>-0.266356</td>\n",
       "      <td>1.322529</td>\n",
       "      <td>-0.430908</td>\n",
       "      <td>-0.519288</td>\n",
       "      <td>-1.648031</td>\n",
       "      <td>-0.211787</td>\n",
       "      <td>-0.061384</td>\n",
       "      <td>0.401468</td>\n",
       "      <td>-1.169116</td>\n",
       "      <td>...</td>\n",
       "      <td>-0.827930</td>\n",
       "      <td>1.394649</td>\n",
       "      <td>0.502745</td>\n",
       "      <td>-0.997905</td>\n",
       "      <td>-1.473552</td>\n",
       "      <td>0.741861</td>\n",
       "      <td>0.683792</td>\n",
       "      <td>1.091399</td>\n",
       "      <td>0.014969</td>\n",
       "      <td>0.752519</td>\n",
       "    </tr>\n",
       "    <tr>\n",
       "      <th>1</th>\n",
       "      <td>-1.731452</td>\n",
       "      <td>-0.266356</td>\n",
       "      <td>0.373707</td>\n",
       "      <td>-0.430908</td>\n",
       "      <td>1.019801</td>\n",
       "      <td>-1.648031</td>\n",
       "      <td>-0.211787</td>\n",
       "      <td>-0.061384</td>\n",
       "      <td>-2.490858</td>\n",
       "      <td>-0.679480</td>\n",
       "      <td>...</td>\n",
       "      <td>-0.313822</td>\n",
       "      <td>0.557693</td>\n",
       "      <td>-1.275172</td>\n",
       "      <td>1.002100</td>\n",
       "      <td>0.499797</td>\n",
       "      <td>0.741861</td>\n",
       "      <td>0.000370</td>\n",
       "      <td>-0.974414</td>\n",
       "      <td>0.014969</td>\n",
       "      <td>0.000108</td>\n",
       "    </tr>\n",
       "    <tr>\n",
       "      <th>2</th>\n",
       "      <td>-1.731428</td>\n",
       "      <td>-0.266356</td>\n",
       "      <td>0.373707</td>\n",
       "      <td>2.320682</td>\n",
       "      <td>-0.519288</td>\n",
       "      <td>-1.648031</td>\n",
       "      <td>-0.211787</td>\n",
       "      <td>-0.061384</td>\n",
       "      <td>0.401468</td>\n",
       "      <td>0.408601</td>\n",
       "      <td>...</td>\n",
       "      <td>0.400217</td>\n",
       "      <td>1.394649</td>\n",
       "      <td>1.158676</td>\n",
       "      <td>-0.997905</td>\n",
       "      <td>-0.815769</td>\n",
       "      <td>0.741861</td>\n",
       "      <td>0.191680</td>\n",
       "      <td>1.091399</td>\n",
       "      <td>0.014969</td>\n",
       "      <td>0.856056</td>\n",
       "    </tr>\n",
       "    <tr>\n",
       "      <th>3</th>\n",
       "      <td>-1.731405</td>\n",
       "      <td>-0.266356</td>\n",
       "      <td>0.373707</td>\n",
       "      <td>-0.430908</td>\n",
       "      <td>-0.519288</td>\n",
       "      <td>0.976690</td>\n",
       "      <td>-0.211787</td>\n",
       "      <td>-0.061384</td>\n",
       "      <td>0.401468</td>\n",
       "      <td>0.680621</td>\n",
       "      <td>...</td>\n",
       "      <td>0.781037</td>\n",
       "      <td>1.394649</td>\n",
       "      <td>-0.973099</td>\n",
       "      <td>-0.997905</td>\n",
       "      <td>-0.157986</td>\n",
       "      <td>-1.347961</td>\n",
       "      <td>-0.088260</td>\n",
       "      <td>-0.974414</td>\n",
       "      <td>0.014969</td>\n",
       "      <td>0.441908</td>\n",
       "    </tr>\n",
       "    <tr>\n",
       "      <th>4</th>\n",
       "      <td>-1.731382</td>\n",
       "      <td>-0.266356</td>\n",
       "      <td>-0.575116</td>\n",
       "      <td>2.320682</td>\n",
       "      <td>-0.519288</td>\n",
       "      <td>-1.648031</td>\n",
       "      <td>-0.211787</td>\n",
       "      <td>-0.061384</td>\n",
       "      <td>0.401468</td>\n",
       "      <td>1.986318</td>\n",
       "      <td>...</td>\n",
       "      <td>0.552545</td>\n",
       "      <td>-0.279264</td>\n",
       "      <td>-0.843639</td>\n",
       "      <td>1.002100</td>\n",
       "      <td>-1.473552</td>\n",
       "      <td>-1.347961</td>\n",
       "      <td>0.503817</td>\n",
       "      <td>-0.974414</td>\n",
       "      <td>0.014969</td>\n",
       "      <td>0.131297</td>\n",
       "    </tr>\n",
       "  </tbody>\n",
       "</table>\n",
       "<p>5 rows × 32 columns</p>\n",
       "</div>"
      ],
      "text/plain": [
       "          0         1         2         3         4         5         6  \\\n",
       "0 -1.731475 -0.266356  1.322529 -0.430908 -0.519288 -1.648031 -0.211787   \n",
       "1 -1.731452 -0.266356  0.373707 -0.430908  1.019801 -1.648031 -0.211787   \n",
       "2 -1.731428 -0.266356  0.373707  2.320682 -0.519288 -1.648031 -0.211787   \n",
       "3 -1.731405 -0.266356  0.373707 -0.430908 -0.519288  0.976690 -0.211787   \n",
       "4 -1.731382 -0.266356 -0.575116  2.320682 -0.519288 -1.648031 -0.211787   \n",
       "\n",
       "          7         8         9  ...        22        23        24        25  \\\n",
       "0 -0.061384  0.401468 -1.169116  ... -0.827930  1.394649  0.502745 -0.997905   \n",
       "1 -0.061384 -2.490858 -0.679480  ... -0.313822  0.557693 -1.275172  1.002100   \n",
       "2 -0.061384  0.401468  0.408601  ...  0.400217  1.394649  1.158676 -0.997905   \n",
       "3 -0.061384  0.401468  0.680621  ...  0.781037  1.394649 -0.973099 -0.997905   \n",
       "4 -0.061384  0.401468  1.986318  ...  0.552545 -0.279264 -0.843639  1.002100   \n",
       "\n",
       "         26        27        28        29        30        31  \n",
       "0 -1.473552  0.741861  0.683792  1.091399  0.014969  0.752519  \n",
       "1  0.499797  0.741861  0.000370 -0.974414  0.014969  0.000108  \n",
       "2 -0.815769  0.741861  0.191680  1.091399  0.014969  0.856056  \n",
       "3 -0.157986 -1.347961 -0.088260 -0.974414  0.014969  0.441908  \n",
       "4 -1.473552 -1.347961  0.503817 -0.974414  0.014969  0.131297  \n",
       "\n",
       "[5 rows x 32 columns]"
      ]
     },
     "execution_count": 71,
     "metadata": {},
     "output_type": "execute_result"
    }
   ],
   "source": [
    "X_scaled.head()"
   ]
  },
  {
   "cell_type": "code",
   "execution_count": 72,
   "metadata": {},
   "outputs": [
    {
     "data": {
      "text/html": [
       "<div>\n",
       "<style scoped>\n",
       "    .dataframe tbody tr th:only-of-type {\n",
       "        vertical-align: middle;\n",
       "    }\n",
       "\n",
       "    .dataframe tbody tr th {\n",
       "        vertical-align: top;\n",
       "    }\n",
       "\n",
       "    .dataframe thead th {\n",
       "        text-align: right;\n",
       "    }\n",
       "</style>\n",
       "<table border=\"1\" class=\"dataframe\">\n",
       "  <thead>\n",
       "    <tr style=\"text-align: right;\">\n",
       "      <th></th>\n",
       "      <th>ID</th>\n",
       "      <th>loan_limit</th>\n",
       "      <th>Gender</th>\n",
       "      <th>approv_in_adv</th>\n",
       "      <th>loan_type</th>\n",
       "      <th>loan_purpose</th>\n",
       "      <th>Credit_Worthiness</th>\n",
       "      <th>open_credit</th>\n",
       "      <th>business_or_commercial</th>\n",
       "      <th>loan_amount</th>\n",
       "      <th>...</th>\n",
       "      <th>credit_type</th>\n",
       "      <th>Credit_Score</th>\n",
       "      <th>co-applicant_credit_type</th>\n",
       "      <th>age</th>\n",
       "      <th>submission_of_application</th>\n",
       "      <th>LTV</th>\n",
       "      <th>Region</th>\n",
       "      <th>Security_Type</th>\n",
       "      <th>Status</th>\n",
       "      <th>dtir1</th>\n",
       "    </tr>\n",
       "  </thead>\n",
       "  <tbody>\n",
       "    <tr>\n",
       "      <th>0</th>\n",
       "      <td>24890</td>\n",
       "      <td>0</td>\n",
       "      <td>3</td>\n",
       "      <td>0</td>\n",
       "      <td>0</td>\n",
       "      <td>0</td>\n",
       "      <td>0</td>\n",
       "      <td>0</td>\n",
       "      <td>1</td>\n",
       "      <td>116500</td>\n",
       "      <td>...</td>\n",
       "      <td>3</td>\n",
       "      <td>758</td>\n",
       "      <td>0</td>\n",
       "      <td>0</td>\n",
       "      <td>1</td>\n",
       "      <td>98.728814</td>\n",
       "      <td>3</td>\n",
       "      <td>1</td>\n",
       "      <td>1</td>\n",
       "      <td>45.000000</td>\n",
       "    </tr>\n",
       "    <tr>\n",
       "      <th>1</th>\n",
       "      <td>24891</td>\n",
       "      <td>0</td>\n",
       "      <td>2</td>\n",
       "      <td>0</td>\n",
       "      <td>1</td>\n",
       "      <td>0</td>\n",
       "      <td>0</td>\n",
       "      <td>0</td>\n",
       "      <td>0</td>\n",
       "      <td>206500</td>\n",
       "      <td>...</td>\n",
       "      <td>2</td>\n",
       "      <td>552</td>\n",
       "      <td>1</td>\n",
       "      <td>3</td>\n",
       "      <td>1</td>\n",
       "      <td>72.746457</td>\n",
       "      <td>0</td>\n",
       "      <td>1</td>\n",
       "      <td>1</td>\n",
       "      <td>37.732932</td>\n",
       "    </tr>\n",
       "    <tr>\n",
       "      <th>2</th>\n",
       "      <td>24892</td>\n",
       "      <td>0</td>\n",
       "      <td>2</td>\n",
       "      <td>1</td>\n",
       "      <td>0</td>\n",
       "      <td>0</td>\n",
       "      <td>0</td>\n",
       "      <td>0</td>\n",
       "      <td>1</td>\n",
       "      <td>406500</td>\n",
       "      <td>...</td>\n",
       "      <td>3</td>\n",
       "      <td>834</td>\n",
       "      <td>0</td>\n",
       "      <td>1</td>\n",
       "      <td>1</td>\n",
       "      <td>80.019685</td>\n",
       "      <td>3</td>\n",
       "      <td>1</td>\n",
       "      <td>0</td>\n",
       "      <td>46.000000</td>\n",
       "    </tr>\n",
       "    <tr>\n",
       "      <th>3</th>\n",
       "      <td>24893</td>\n",
       "      <td>0</td>\n",
       "      <td>2</td>\n",
       "      <td>0</td>\n",
       "      <td>0</td>\n",
       "      <td>3</td>\n",
       "      <td>0</td>\n",
       "      <td>0</td>\n",
       "      <td>1</td>\n",
       "      <td>456500</td>\n",
       "      <td>...</td>\n",
       "      <td>3</td>\n",
       "      <td>587</td>\n",
       "      <td>0</td>\n",
       "      <td>2</td>\n",
       "      <td>0</td>\n",
       "      <td>69.376900</td>\n",
       "      <td>0</td>\n",
       "      <td>1</td>\n",
       "      <td>0</td>\n",
       "      <td>42.000000</td>\n",
       "    </tr>\n",
       "    <tr>\n",
       "      <th>4</th>\n",
       "      <td>24894</td>\n",
       "      <td>0</td>\n",
       "      <td>1</td>\n",
       "      <td>1</td>\n",
       "      <td>0</td>\n",
       "      <td>0</td>\n",
       "      <td>0</td>\n",
       "      <td>0</td>\n",
       "      <td>1</td>\n",
       "      <td>696500</td>\n",
       "      <td>...</td>\n",
       "      <td>1</td>\n",
       "      <td>602</td>\n",
       "      <td>1</td>\n",
       "      <td>0</td>\n",
       "      <td>0</td>\n",
       "      <td>91.886544</td>\n",
       "      <td>0</td>\n",
       "      <td>1</td>\n",
       "      <td>0</td>\n",
       "      <td>39.000000</td>\n",
       "    </tr>\n",
       "  </tbody>\n",
       "</table>\n",
       "<p>5 rows × 33 columns</p>\n",
       "</div>"
      ],
      "text/plain": [
       "      ID  loan_limit  Gender  approv_in_adv  loan_type  loan_purpose  \\\n",
       "0  24890           0       3              0          0             0   \n",
       "1  24891           0       2              0          1             0   \n",
       "2  24892           0       2              1          0             0   \n",
       "3  24893           0       2              0          0             3   \n",
       "4  24894           0       1              1          0             0   \n",
       "\n",
       "   Credit_Worthiness  open_credit  business_or_commercial  loan_amount  ...  \\\n",
       "0                  0            0                       1       116500  ...   \n",
       "1                  0            0                       0       206500  ...   \n",
       "2                  0            0                       1       406500  ...   \n",
       "3                  0            0                       1       456500  ...   \n",
       "4                  0            0                       1       696500  ...   \n",
       "\n",
       "   credit_type  Credit_Score  co-applicant_credit_type  age  \\\n",
       "0            3           758                         0    0   \n",
       "1            2           552                         1    3   \n",
       "2            3           834                         0    1   \n",
       "3            3           587                         0    2   \n",
       "4            1           602                         1    0   \n",
       "\n",
       "   submission_of_application        LTV  Region  Security_Type  Status  \\\n",
       "0                          1  98.728814       3              1       1   \n",
       "1                          1  72.746457       0              1       1   \n",
       "2                          1  80.019685       3              1       0   \n",
       "3                          0  69.376900       0              1       0   \n",
       "4                          0  91.886544       0              1       0   \n",
       "\n",
       "       dtir1  \n",
       "0  45.000000  \n",
       "1  37.732932  \n",
       "2  46.000000  \n",
       "3  42.000000  \n",
       "4  39.000000  \n",
       "\n",
       "[5 rows x 33 columns]"
      ]
     },
     "execution_count": 72,
     "metadata": {},
     "output_type": "execute_result"
    }
   ],
   "source": [
    "df.head()"
   ]
  },
  {
   "cell_type": "code",
   "execution_count": 73,
   "metadata": {},
   "outputs": [],
   "source": [
    "Target=df['Status']"
   ]
  },
  {
   "cell_type": "markdown",
   "metadata": {},
   "source": [
    "# Splitting the Data\n",
    "We need to splitting the data to get the original testing set before Undersampling\n",
    "The main goal is to fit the model either with the dataframes that were undersample or the original testing set."
   ]
  },
  {
   "cell_type": "code",
   "execution_count": 74,
   "metadata": {},
   "outputs": [],
   "source": [
    "x_train, x_test, y_train, y_test = train_test_split(X_scaled, Target, test_size=0.25, random_state=1, stratify=Target)"
   ]
  },
  {
   "cell_type": "markdown",
   "metadata": {},
   "source": [
    "# Random Under-Sampling"
   ]
  },
  {
   "cell_type": "code",
   "execution_count": 75,
   "metadata": {},
   "outputs": [
    {
     "data": {
      "text/plain": [
       "Status\n",
       "0    111176\n",
       "1     36139\n",
       "Name: count, dtype: int64"
      ]
     },
     "execution_count": 75,
     "metadata": {},
     "output_type": "execute_result"
    }
   ],
   "source": [
    "Target.value_counts()"
   ]
  },
  {
   "cell_type": "code",
   "execution_count": 76,
   "metadata": {},
   "outputs": [
    {
     "data": {
      "text/html": [
       "<div>\n",
       "<style scoped>\n",
       "    .dataframe tbody tr th:only-of-type {\n",
       "        vertical-align: middle;\n",
       "    }\n",
       "\n",
       "    .dataframe tbody tr th {\n",
       "        vertical-align: top;\n",
       "    }\n",
       "\n",
       "    .dataframe thead th {\n",
       "        text-align: right;\n",
       "    }\n",
       "</style>\n",
       "<table border=\"1\" class=\"dataframe\">\n",
       "  <thead>\n",
       "    <tr style=\"text-align: right;\">\n",
       "      <th></th>\n",
       "      <th>ID</th>\n",
       "      <th>loan_limit</th>\n",
       "      <th>Gender</th>\n",
       "      <th>approv_in_adv</th>\n",
       "      <th>loan_type</th>\n",
       "      <th>loan_purpose</th>\n",
       "      <th>Credit_Worthiness</th>\n",
       "      <th>open_credit</th>\n",
       "      <th>business_or_commercial</th>\n",
       "      <th>loan_amount</th>\n",
       "      <th>...</th>\n",
       "      <th>credit_type</th>\n",
       "      <th>Credit_Score</th>\n",
       "      <th>co-applicant_credit_type</th>\n",
       "      <th>age</th>\n",
       "      <th>submission_of_application</th>\n",
       "      <th>LTV</th>\n",
       "      <th>Region</th>\n",
       "      <th>Security_Type</th>\n",
       "      <th>Status</th>\n",
       "      <th>dtir1</th>\n",
       "    </tr>\n",
       "  </thead>\n",
       "  <tbody>\n",
       "    <tr>\n",
       "      <th>18813</th>\n",
       "      <td>43866</td>\n",
       "      <td>0</td>\n",
       "      <td>1</td>\n",
       "      <td>0</td>\n",
       "      <td>0</td>\n",
       "      <td>2</td>\n",
       "      <td>0</td>\n",
       "      <td>0</td>\n",
       "      <td>1</td>\n",
       "      <td>476500</td>\n",
       "      <td>...</td>\n",
       "      <td>2</td>\n",
       "      <td>834</td>\n",
       "      <td>1</td>\n",
       "      <td>4</td>\n",
       "      <td>1</td>\n",
       "      <td>72.746457</td>\n",
       "      <td>0</td>\n",
       "      <td>1</td>\n",
       "      <td>1</td>\n",
       "      <td>37.732932</td>\n",
       "    </tr>\n",
       "    <tr>\n",
       "      <th>14114</th>\n",
       "      <td>39126</td>\n",
       "      <td>0</td>\n",
       "      <td>0</td>\n",
       "      <td>0</td>\n",
       "      <td>0</td>\n",
       "      <td>2</td>\n",
       "      <td>0</td>\n",
       "      <td>0</td>\n",
       "      <td>1</td>\n",
       "      <td>226500</td>\n",
       "      <td>...</td>\n",
       "      <td>3</td>\n",
       "      <td>834</td>\n",
       "      <td>0</td>\n",
       "      <td>1</td>\n",
       "      <td>1</td>\n",
       "      <td>78.645833</td>\n",
       "      <td>0</td>\n",
       "      <td>1</td>\n",
       "      <td>0</td>\n",
       "      <td>30.000000</td>\n",
       "    </tr>\n",
       "    <tr>\n",
       "      <th>83217</th>\n",
       "      <td>108857</td>\n",
       "      <td>0</td>\n",
       "      <td>2</td>\n",
       "      <td>0</td>\n",
       "      <td>0</td>\n",
       "      <td>2</td>\n",
       "      <td>0</td>\n",
       "      <td>0</td>\n",
       "      <td>1</td>\n",
       "      <td>536500</td>\n",
       "      <td>...</td>\n",
       "      <td>3</td>\n",
       "      <td>683</td>\n",
       "      <td>1</td>\n",
       "      <td>3</td>\n",
       "      <td>1</td>\n",
       "      <td>79.129794</td>\n",
       "      <td>0</td>\n",
       "      <td>1</td>\n",
       "      <td>0</td>\n",
       "      <td>31.000000</td>\n",
       "    </tr>\n",
       "    <tr>\n",
       "      <th>74892</th>\n",
       "      <td>100433</td>\n",
       "      <td>1</td>\n",
       "      <td>3</td>\n",
       "      <td>0</td>\n",
       "      <td>2</td>\n",
       "      <td>0</td>\n",
       "      <td>0</td>\n",
       "      <td>0</td>\n",
       "      <td>1</td>\n",
       "      <td>576500</td>\n",
       "      <td>...</td>\n",
       "      <td>1</td>\n",
       "      <td>843</td>\n",
       "      <td>1</td>\n",
       "      <td>1</td>\n",
       "      <td>1</td>\n",
       "      <td>85.029499</td>\n",
       "      <td>3</td>\n",
       "      <td>1</td>\n",
       "      <td>1</td>\n",
       "      <td>43.000000</td>\n",
       "    </tr>\n",
       "    <tr>\n",
       "      <th>144348</th>\n",
       "      <td>170568</td>\n",
       "      <td>0</td>\n",
       "      <td>2</td>\n",
       "      <td>1</td>\n",
       "      <td>0</td>\n",
       "      <td>0</td>\n",
       "      <td>0</td>\n",
       "      <td>0</td>\n",
       "      <td>1</td>\n",
       "      <td>476500</td>\n",
       "      <td>...</td>\n",
       "      <td>1</td>\n",
       "      <td>598</td>\n",
       "      <td>1</td>\n",
       "      <td>1</td>\n",
       "      <td>0</td>\n",
       "      <td>75.875796</td>\n",
       "      <td>3</td>\n",
       "      <td>1</td>\n",
       "      <td>0</td>\n",
       "      <td>32.000000</td>\n",
       "    </tr>\n",
       "  </tbody>\n",
       "</table>\n",
       "<p>5 rows × 33 columns</p>\n",
       "</div>"
      ],
      "text/plain": [
       "            ID  loan_limit  Gender  approv_in_adv  loan_type  loan_purpose  \\\n",
       "18813    43866           0       1              0          0             2   \n",
       "14114    39126           0       0              0          0             2   \n",
       "83217   108857           0       2              0          0             2   \n",
       "74892   100433           1       3              0          2             0   \n",
       "144348  170568           0       2              1          0             0   \n",
       "\n",
       "        Credit_Worthiness  open_credit  business_or_commercial  loan_amount  \\\n",
       "18813                   0            0                       1       476500   \n",
       "14114                   0            0                       1       226500   \n",
       "83217                   0            0                       1       536500   \n",
       "74892                   0            0                       1       576500   \n",
       "144348                  0            0                       1       476500   \n",
       "\n",
       "        ...  credit_type  Credit_Score  co-applicant_credit_type  age  \\\n",
       "18813   ...            2           834                         1    4   \n",
       "14114   ...            3           834                         0    1   \n",
       "83217   ...            3           683                         1    3   \n",
       "74892   ...            1           843                         1    1   \n",
       "144348  ...            1           598                         1    1   \n",
       "\n",
       "        submission_of_application        LTV  Region  Security_Type  Status  \\\n",
       "18813                           1  72.746457       0              1       1   \n",
       "14114                           1  78.645833       0              1       0   \n",
       "83217                           1  79.129794       0              1       0   \n",
       "74892                           1  85.029499       3              1       1   \n",
       "144348                          0  75.875796       3              1       0   \n",
       "\n",
       "            dtir1  \n",
       "18813   37.732932  \n",
       "14114   30.000000  \n",
       "83217   31.000000  \n",
       "74892   43.000000  \n",
       "144348  32.000000  \n",
       "\n",
       "[5 rows x 33 columns]"
      ]
     },
     "execution_count": 76,
     "metadata": {},
     "output_type": "execute_result"
    }
   ],
   "source": [
    "#shuffle the data before creating the subsamples\n",
    "df = df.sample(frac=1)\n",
    "\n",
    "#amount of default classes 36139 rows\n",
    "default_df = df.loc[df['Status'] == 1]\n",
    "non_default_df = df.loc[df['Status'] == 0][:36139]\n",
    "\n",
    "normal_distributed_df = pd.concat([default_df, non_default_df])\n",
    "\n",
    "#shuffle dataframe rows\n",
    "new_df = normal_distributed_df.sample(frac=1, random_state=1)\n",
    "new_df.head()"
   ]
  },
  {
   "cell_type": "code",
   "execution_count": 77,
   "metadata": {},
   "outputs": [
    {
     "name": "stdout",
     "output_type": "stream",
     "text": [
      "Distribution of the Classes in the subsample dataset\n",
      "Status\n",
      "1    0.5\n",
      "0    0.5\n",
      "Name: count, dtype: float64\n"
     ]
    },
    {
     "data": {
      "image/png": "[encoded data removed]",
      "text/plain": [
       "<Figure size 640x480 with 1 Axes>"
      ]
     },
     "metadata": {},
     "output_type": "display_data"
    }
   ],
   "source": [
    "print('Distribution of the Classes in the subsample dataset')\n",
    "print(new_df['Status'].value_counts()/len(new_df))\n",
    "\n",
    "sns.countplot(new_df, x='Status')\n",
    "plt.title('Equally Distributed Classes', fontsize=14)\n",
    "plt.show()"
   ]
  },
  {
   "cell_type": "markdown",
   "metadata": {},
   "source": [
    "# Model Building"
   ]
  },
  {
   "cell_type": "code",
   "execution_count": 78,
   "metadata": {},
   "outputs": [],
   "source": [
    "#new x_train, y_train\n",
    "x_train = new_df.drop('Status', axis=1)\n",
    "y_train = new_df['Status']"
   ]
  },
  {
   "cell_type": "code",
   "execution_count": 79,
   "metadata": {},
   "outputs": [],
   "source": [
    "list_col = list(x_train.columns)"
   ]
  },
  {
   "cell_type": "code",
   "execution_count": 80,
   "metadata": {},
   "outputs": [],
   "source": [
    "dir_col = {}\n",
    "for i in range(len(list_col)):\n",
    "    dir_col[str(i)] = list_col[i]"
   ]
  },
  {
   "cell_type": "code",
   "execution_count": 81,
   "metadata": {},
   "outputs": [
    {
     "data": {
      "text/plain": [
       "{'0': 'ID',\n",
       " '1': 'loan_limit',\n",
       " '2': 'Gender',\n",
       " '3': 'approv_in_adv',\n",
       " '4': 'loan_type',\n",
       " '5': 'loan_purpose',\n",
       " '6': 'Credit_Worthiness',\n",
       " '7': 'open_credit',\n",
       " '8': 'business_or_commercial',\n",
       " '9': 'loan_amount',\n",
       " '10': 'rate_of_interest',\n",
       " '11': 'Interest_rate_spread',\n",
       " '12': 'Upfront_charges',\n",
       " '13': 'term',\n",
       " '14': 'Neg_ammortization',\n",
       " '15': 'interest_only',\n",
       " '16': 'lump_sum_payment',\n",
       " '17': 'property_value',\n",
       " '18': 'construction_type',\n",
       " '19': 'occupancy_type',\n",
       " '20': 'Secured_by',\n",
       " '21': 'total_units',\n",
       " '22': 'income',\n",
       " '23': 'credit_type',\n",
       " '24': 'Credit_Score',\n",
       " '25': 'co-applicant_credit_type',\n",
       " '26': 'age',\n",
       " '27': 'submission_of_application',\n",
       " '28': 'LTV',\n",
       " '29': 'Region',\n",
       " '30': 'Security_Type',\n",
       " '31': 'dtir1'}"
      ]
     },
     "execution_count": 81,
     "metadata": {},
     "output_type": "execute_result"
    }
   ],
   "source": [
    "dir_col"
   ]
  },
  {
   "cell_type": "code",
   "execution_count": 82,
   "metadata": {},
   "outputs": [],
   "source": [
    "x_test.rename(columns=dir_col,inplace=True)"
   ]
  },
  {
   "cell_type": "markdown",
   "metadata": {},
   "source": [
    "KNN"
   ]
  },
  {
   "cell_type": "code",
   "execution_count": 83,
   "metadata": {},
   "outputs": [],
   "source": [
    "knn = KNeighborsClassifier(n_neighbors=7)\n",
    "knn.fit(x_train, y_train)\n",
    "y_pred=knn.predict(x_test)"
   ]
  },
  {
   "cell_type": "code",
   "execution_count": 84,
   "metadata": {},
   "outputs": [
    {
     "data": {
      "text/plain": [
       "0.7546770208259795"
      ]
     },
     "execution_count": 84,
     "metadata": {},
     "output_type": "execute_result"
    }
   ],
   "source": [
    "fin=accuracy_score(y_test, y_pred)\n",
    "fin"
   ]
  },
  {
   "cell_type": "code",
   "execution_count": 85,
   "metadata": {},
   "outputs": [
    {
     "name": "stdout",
     "output_type": "stream",
     "text": [
      "0.7713688812640084\n"
     ]
    }
   ],
   "source": [
    "print(knn.score(x_train,y_train))"
   ]
  },
  {
   "cell_type": "code",
   "execution_count": 86,
   "metadata": {},
   "outputs": [
    {
     "name": "stdout",
     "output_type": "stream",
     "text": [
      "[[27794     0]\n",
      " [ 9035     0]]\n",
      "              precision    recall  f1-score   support\n",
      "\n",
      "           0       0.75      1.00      0.86     27794\n",
      "           1       0.00      0.00      0.00      9035\n",
      "\n",
      "    accuracy                           0.75     36829\n",
      "   macro avg       0.38      0.50      0.43     36829\n",
      "weighted avg       0.57      0.75      0.65     36829\n",
      "\n"
     ]
    }
   ],
   "source": [
    "print(confusion_matrix(y_test,y_pred))\n",
    "print(classification_report(y_test,y_pred))"
   ]
  },
  {
   "cell_type": "code",
   "execution_count": 87,
   "metadata": {},
   "outputs": [
    {
     "data": {
      "image/png": "[encoded data removed]",
      "text/plain": [
       "<Figure size 640x480 with 1 Axes>"
      ]
     },
     "metadata": {},
     "output_type": "display_data"
    }
   ],
   "source": [
    "y_pred_proba=knn.predict_proba(x_test)[:,1]\n",
    "fpr,tpr,thresholds=roc_curve(y_test,y_pred_proba)\n",
    "plt.plot(fpr,tpr)\n",
    "plt.xlabel('FPR')\n",
    "plt.ylabel('TPR')\n",
    "plt.show()"
   ]
  },
  {
   "cell_type": "code",
   "execution_count": 88,
   "metadata": {},
   "outputs": [
    {
     "data": {
      "text/plain": [
       "0.5"
      ]
     },
     "execution_count": 88,
     "metadata": {},
     "output_type": "execute_result"
    }
   ],
   "source": [
    "roc_auc_score(y_test,y_pred_proba)"
   ]
  },
  {
   "cell_type": "code",
   "execution_count": 89,
   "metadata": {},
   "outputs": [
    {
     "data": {
      "text/plain": [
       "0.0"
      ]
     },
     "execution_count": 89,
     "metadata": {},
     "output_type": "execute_result"
    }
   ],
   "source": [
    "f1_score(y_test, y_pred)"
   ]
  },
  {
   "cell_type": "markdown",
   "metadata": {},
   "source": [
    "Roc_auc_score equal to 0.5 indicates that random guessing, as we see that accuracy and f1_score in test set is very low, this model is not suitable for this problem."
   ]
  },
  {
   "cell_type": "markdown",
   "metadata": {},
   "source": [
    "# Logistic Regression and CART"
   ]
  },
  {
   "cell_type": "code",
   "execution_count": 90,
   "metadata": {},
   "outputs": [],
   "source": [
    "lr=LogisticRegression()\n",
    "dt=DecisionTreeClassifier(max_depth=10)\n",
    "classifiers=[('Logistic Regression',lr),('CART',dt)]"
   ]
  },
  {
   "cell_type": "code",
   "execution_count": 91,
   "metadata": {},
   "outputs": [
    {
     "name": "stdout",
     "output_type": "stream",
     "text": [
      "Logistic Regression for test set: 0.5550517255423715\n",
      "Train Accuracy: 0.5627576856028114\n",
      "CART for test set: 0.7546770208259795\n",
      "Train Accuracy: 1.0\n"
     ]
    }
   ],
   "source": [
    "for clf_name, clf in classifiers:\n",
    "    clf.fit(x_train, y_train)\n",
    "    y_pred = clf.predict(x_test)\n",
    "    print(f'{clf_name} for test set: {accuracy_score(y_test,y_pred)}')\n",
    "    print(f'Train Accuracy: {clf.score(x_train, y_train)}')"
   ]
  },
  {
   "cell_type": "markdown",
   "metadata": {},
   "source": [
    "This result indicate that Logistic Regression have both low bias and low variance since accuracy in test set and train set is still low(under 0.6).\n",
    "Decision Tree Classifiers goves better result, but has the problem of overfitting."
   ]
  },
  {
   "cell_type": "code",
   "execution_count": 92,
   "metadata": {},
   "outputs": [
    {
     "data": {
      "image/png": "[encoded data removed]",
      "text/plain": [
       "<Figure size 640x480 with 1 Axes>"
      ]
     },
     "metadata": {},
     "output_type": "display_data"
    },
    {
     "name": "stdout",
     "output_type": "stream",
     "text": [
      "AUC SCORE:0.6153968207635916\n",
      "F1 Score: 0.42983890609234193\n"
     ]
    },
    {
     "data": {
      "image/png": "[encoded data removed]",
      "text/plain": [
       "<Figure size 640x480 with 1 Axes>"
      ]
     },
     "metadata": {},
     "output_type": "display_data"
    },
    {
     "name": "stdout",
     "output_type": "stream",
     "text": [
      "AUC SCORE:0.5\n",
      "F1 Score: 0.0\n"
     ]
    }
   ],
   "source": [
    "for clf_name,clf in classifiers:\n",
    "    y_pred = clf.predict(x_test)\n",
    "    y_pred_proba=clf.predict_proba(x_test)[:,1]\n",
    "    fpr,tpr,thresholds=roc_curve(y_test,y_pred_proba)\n",
    "    plt.plot(fpr,tpr)\n",
    "    plt.xlabel('FPR')\n",
    "    plt.ylabel('TPR')\n",
    "    plt.title(clf_name)\n",
    "    plt.show()\n",
    "    print(f'AUC SCORE:{roc_auc_score(y_test,y_pred_proba)}')\n",
    "    print(f'F1 Score: {f1_score(y_test, y_pred)}')"
   ]
  },
  {
   "cell_type": "markdown",
   "metadata": {},
   "source": [
    "# Voting classifier"
   ]
  },
  {
   "cell_type": "code",
   "execution_count": 95,
   "metadata": {},
   "outputs": [
    {
     "name": "stdout",
     "output_type": "stream",
     "text": [
      "Accuracy in test set: 0.7546770208259795\n",
      "Train Accuracy:1.0\n"
     ]
    }
   ],
   "source": [
    "from sklearn.ensemble import VotingClassifier\n",
    "vc=VotingClassifier(estimators=classifiers,voting='soft')\n",
    "vc.fit(x_train,y_train)\n",
    "y_pred=vc.predict(x_test)\n",
    "print(f'Accuracy in test set: {accuracy_score(y_test,y_pred)}')\n",
    "print(f'Train Accuracy:{vc.score(x_train,y_train)}')"
   ]
  },
  {
   "cell_type": "code",
   "execution_count": 96,
   "metadata": {},
   "outputs": [
    {
     "data": {
      "image/png": "[encoded data removed]",
      "text/plain": [
       "<Figure size 640x480 with 1 Axes>"
      ]
     },
     "metadata": {},
     "output_type": "display_data"
    }
   ],
   "source": [
    "from sklearn.metrics import roc_curve\n",
    "y_pred_proba=vc.predict_proba(x_test)[:,1]\n",
    "fpr,tpr,thresholds=roc_curve(y_test,y_pred_proba)\n",
    "plt.plot(fpr,tpr)\n",
    "plt.xlabel('FPR')\n",
    "plt.ylabel('TPR')\n",
    "plt.show()"
   ]
  },
  {
   "cell_type": "code",
   "execution_count": 97,
   "metadata": {},
   "outputs": [
    {
     "data": {
      "text/plain": [
       "0.6153968207635916"
      ]
     },
     "execution_count": 97,
     "metadata": {},
     "output_type": "execute_result"
    }
   ],
   "source": [
    "from sklearn.metrics import roc_auc_score\n",
    "roc_auc_score(y_test,y_pred_proba)"
   ]
  },
  {
   "cell_type": "code",
   "execution_count": 99,
   "metadata": {},
   "outputs": [
    {
     "data": {
      "text/plain": [
       "0.0"
      ]
     },
     "execution_count": 99,
     "metadata": {},
     "output_type": "execute_result"
    }
   ],
   "source": [
    "f1_score(y_test, y_pred)"
   ]
  },
  {
   "cell_type": "markdown",
   "metadata": {},
   "source": [
    "# Bagging"
   ]
  },
  {
   "cell_type": "code",
   "execution_count": 101,
   "metadata": {},
   "outputs": [
    {
     "name": "stdout",
     "output_type": "stream",
     "text": [
      "0.7546770208259795\n"
     ]
    }
   ],
   "source": [
    "from sklearn.ensemble import BaggingClassifier\n",
    "dt=DecisionTreeClassifier(max_depth=10,min_samples_leaf=16)\n",
    "bc=BaggingClassifier(estimator=dt,n_estimators=300,n_jobs=-1)\n",
    "bc.fit(x_train,y_train)\n",
    "y_pred=bc.predict(x_test)\n",
    "print(accuracy_score(y_test,y_pred))"
   ]
  },
  {
   "cell_type": "code",
   "execution_count": 102,
   "metadata": {},
   "outputs": [
    {
     "name": "stdout",
     "output_type": "stream",
     "text": [
      "1.0\n"
     ]
    }
   ],
   "source": [
    "print(bc.score(x_train,y_train))"
   ]
  },
  {
   "cell_type": "code",
   "execution_count": 104,
   "metadata": {},
   "outputs": [
    {
     "data": {
      "image/png": "[encoded data removed]",
      "text/plain": [
       "<Figure size 640x480 with 1 Axes>"
      ]
     },
     "metadata": {},
     "output_type": "display_data"
    }
   ],
   "source": [
    "y_pred_proba=bc.predict_proba(x_test)[:,1]\n",
    "fpr,tpr,thresholds=roc_curve(y_test,y_pred_proba)\n",
    "plt.plot(fpr,tpr)\n",
    "plt.xlabel('FPR')\n",
    "plt.ylabel('TPR')\n",
    "plt.show()"
   ]
  },
  {
   "cell_type": "code",
   "execution_count": 105,
   "metadata": {},
   "outputs": [
    {
     "data": {
      "text/plain": [
       "0.5"
      ]
     },
     "execution_count": 105,
     "metadata": {},
     "output_type": "execute_result"
    }
   ],
   "source": [
    "roc_auc_score(y_test,y_pred_proba)"
   ]
  },
  {
   "cell_type": "code",
   "execution_count": 106,
   "metadata": {},
   "outputs": [
    {
     "name": "stdout",
     "output_type": "stream",
     "text": [
      "[[27794     0]\n",
      " [ 9035     0]]\n",
      "              precision    recall  f1-score   support\n",
      "\n",
      "           0       0.75      1.00      0.86     27794\n",
      "           1       0.00      0.00      0.00      9035\n",
      "\n",
      "    accuracy                           0.75     36829\n",
      "   macro avg       0.38      0.50      0.43     36829\n",
      "weighted avg       0.57      0.75      0.65     36829\n",
      "\n"
     ]
    }
   ],
   "source": [
    "print(confusion_matrix(y_test,y_pred))\n",
    "print(classification_report(y_test,y_pred))"
   ]
  },
  {
   "cell_type": "code",
   "execution_count": 107,
   "metadata": {},
   "outputs": [
    {
     "data": {
      "text/plain": [
       "0.0"
      ]
     },
     "execution_count": 107,
     "metadata": {},
     "output_type": "execute_result"
    }
   ],
   "source": [
    "f1_score(y_pred,y_test)"
   ]
  },
  {
   "cell_type": "markdown",
   "metadata": {},
   "source": [
    "We can explain f1score=0 that because the test set is very imbalanced, the number of Non-Defaulters is always greater than the number of Defaulters, the classifiers will often predict more Non-Defaulter results, even if true or false, leading to the predicted amount of Defaulter being very small, leading to one of the two precision or recall indexes being close to 0 and causing the f1 score to be approximately 0 as well."
   ]
  },
  {
   "cell_type": "markdown",
   "metadata": {},
   "source": [
    "# Random Forest"
   ]
  },
  {
   "cell_type": "code",
   "execution_count": 108,
   "metadata": {},
   "outputs": [
    {
     "name": "stdout",
     "output_type": "stream",
     "text": [
      "0.7546770208259795\n"
     ]
    }
   ],
   "source": [
    "rf=RandomForestClassifier(n_estimators=20,n_jobs=-1,min_samples_leaf=0.01)\n",
    "rf.fit(x_train,y_train)\n",
    "y_pred=rf.predict(x_test)\n",
    "print(accuracy_score(y_test,y_pred))"
   ]
  },
  {
   "cell_type": "code",
   "execution_count": 109,
   "metadata": {},
   "outputs": [
    {
     "name": "stdout",
     "output_type": "stream",
     "text": [
      "0.9997371260964609\n"
     ]
    }
   ],
   "source": [
    "print(rf.score(x_train,y_train))"
   ]
  },
  {
   "cell_type": "code",
   "execution_count": 110,
   "metadata": {},
   "outputs": [
    {
     "data": {
      "image/png": "[encoded data removed]",
      "text/plain": [
       "<Figure size 640x480 with 1 Axes>"
      ]
     },
     "metadata": {},
     "output_type": "display_data"
    }
   ],
   "source": [
    "from sklearn.metrics import roc_curve\n",
    "y_pred_proba=rf.predict_proba(x_test)[:,1]\n",
    "fpr,tpr,thresholds=roc_curve(y_test,y_pred_proba)\n",
    "plt.plot(fpr,tpr)\n",
    "plt.xlabel('FPR')\n",
    "plt.ylabel('TPR')\n",
    "plt.show()"
   ]
  },
  {
   "cell_type": "code",
   "execution_count": 111,
   "metadata": {},
   "outputs": [
    {
     "data": {
      "text/plain": [
       "0.3603465634730081"
      ]
     },
     "execution_count": 111,
     "metadata": {},
     "output_type": "execute_result"
    }
   ],
   "source": [
    "roc_auc_score(y_test,y_pred_proba)"
   ]
  },
  {
   "cell_type": "code",
   "execution_count": 112,
   "metadata": {},
   "outputs": [
    {
     "name": "stdout",
     "output_type": "stream",
     "text": [
      "[[27794     0]\n",
      " [ 9035     0]]\n",
      "              precision    recall  f1-score   support\n",
      "\n",
      "           0       0.75      1.00      0.86     27794\n",
      "           1       0.00      0.00      0.00      9035\n",
      "\n",
      "    accuracy                           0.75     36829\n",
      "   macro avg       0.38      0.50      0.43     36829\n",
      "weighted avg       0.57      0.75      0.65     36829\n",
      "\n"
     ]
    }
   ],
   "source": [
    "print(confusion_matrix(y_test,y_pred))\n",
    "print(classification_report(y_test,y_pred))"
   ]
  },
  {
   "cell_type": "markdown",
   "metadata": {},
   "source": [
    "# AdaBoostClassifier"
   ]
  },
  {
   "cell_type": "code",
   "execution_count": 114,
   "metadata": {},
   "outputs": [
    {
     "name": "stdout",
     "output_type": "stream",
     "text": [
      "0.7546770208259795\n"
     ]
    }
   ],
   "source": [
    "from sklearn.ensemble import AdaBoostClassifier\n",
    "ad=AdaBoostClassifier(estimator=dt,n_estimators=1)\n",
    "ad.fit(x_train,y_train)\n",
    "y_pred=ad.predict(x_test)\n",
    "print(accuracy_score(y_test,y_pred))"
   ]
  },
  {
   "cell_type": "code",
   "execution_count": 115,
   "metadata": {},
   "outputs": [
    {
     "name": "stdout",
     "output_type": "stream",
     "text": [
      "1.0\n"
     ]
    }
   ],
   "source": [
    "print(ad.score(x_train,y_train))"
   ]
  },
  {
   "cell_type": "code",
   "execution_count": 116,
   "metadata": {},
   "outputs": [
    {
     "data": {
      "image/png": "[encoded data removed]",
      "text/plain": [
       "<Figure size 640x480 with 1 Axes>"
      ]
     },
     "metadata": {},
     "output_type": "display_data"
    }
   ],
   "source": [
    "from sklearn.metrics import roc_curve\n",
    "y_pred_proba=ad.predict_proba(x_test)[:,1]\n",
    "fpr,tpr,thresholds=roc_curve(y_test,y_pred_proba)\n",
    "plt.plot(fpr,tpr)\n",
    "plt.xlabel('FPR')\n",
    "plt.ylabel('TPR')\n",
    "plt.show()"
   ]
  },
  {
   "cell_type": "code",
   "execution_count": 117,
   "metadata": {},
   "outputs": [
    {
     "data": {
      "text/plain": [
       "0.5"
      ]
     },
     "execution_count": 117,
     "metadata": {},
     "output_type": "execute_result"
    }
   ],
   "source": [
    "roc_auc_score(y_test,y_pred_proba)"
   ]
  },
  {
   "cell_type": "code",
   "execution_count": 118,
   "metadata": {},
   "outputs": [
    {
     "name": "stdout",
     "output_type": "stream",
     "text": [
      "[[27794     0]\n",
      " [ 9035     0]]\n",
      "              precision    recall  f1-score   support\n",
      "\n",
      "           0       0.75      1.00      0.86     27794\n",
      "           1       0.00      0.00      0.00      9035\n",
      "\n",
      "    accuracy                           0.75     36829\n",
      "   macro avg       0.38      0.50      0.43     36829\n",
      "weighted avg       0.57      0.75      0.65     36829\n",
      "\n"
     ]
    }
   ],
   "source": [
    "print(confusion_matrix(y_test,y_pred))\n",
    "print(classification_report(y_test,y_pred))"
   ]
  },
  {
   "cell_type": "markdown",
   "metadata": {},
   "source": [
    "# GradientBoosting"
   ]
  },
  {
   "cell_type": "code",
   "execution_count": 119,
   "metadata": {},
   "outputs": [
    {
     "name": "stdout",
     "output_type": "stream",
     "text": [
      "0.7546770208259795\n"
     ]
    }
   ],
   "source": [
    "from sklearn.ensemble import GradientBoostingClassifier\n",
    "gbc = GradientBoostingClassifier(n_estimators=17,max_depth=12)\n",
    "gbc.fit(x_train, y_train)\n",
    "y_pred=gbc.predict(x_test)\n",
    "print(accuracy_score(y_test,y_pred))"
   ]
  },
  {
   "cell_type": "code",
   "execution_count": 120,
   "metadata": {},
   "outputs": [
    {
     "name": "stdout",
     "output_type": "stream",
     "text": [
      "1.0\n"
     ]
    }
   ],
   "source": [
    "print(gbc.score(x_train,y_train))"
   ]
  },
  {
   "cell_type": "code",
   "execution_count": 121,
   "metadata": {},
   "outputs": [
    {
     "data": {
      "image/png": "[encoded data removed]",
      "text/plain": [
       "<Figure size 640x480 with 1 Axes>"
      ]
     },
     "metadata": {},
     "output_type": "display_data"
    }
   ],
   "source": [
    "y_pred_proba=gbc.predict_proba(x_test)[:,1]\n",
    "fpr,tpr,thresholds=roc_curve(y_test,y_pred_proba)\n",
    "plt.plot(fpr,tpr)\n",
    "plt.xlabel('FPR')\n",
    "plt.ylabel('TPR')\n",
    "plt.show()"
   ]
  },
  {
   "cell_type": "code",
   "execution_count": 122,
   "metadata": {},
   "outputs": [
    {
     "data": {
      "text/plain": [
       "0.5"
      ]
     },
     "execution_count": 122,
     "metadata": {},
     "output_type": "execute_result"
    }
   ],
   "source": [
    "roc_auc_score(y_test,y_pred_proba)"
   ]
  },
  {
   "cell_type": "code",
   "execution_count": 123,
   "metadata": {},
   "outputs": [
    {
     "name": "stdout",
     "output_type": "stream",
     "text": [
      "[[27794     0]\n",
      " [ 9035     0]]\n",
      "              precision    recall  f1-score   support\n",
      "\n",
      "           0       0.75      1.00      0.86     27794\n",
      "           1       0.00      0.00      0.00      9035\n",
      "\n",
      "    accuracy                           0.75     36829\n",
      "   macro avg       0.38      0.50      0.43     36829\n",
      "weighted avg       0.57      0.75      0.65     36829\n",
      "\n"
     ]
    }
   ],
   "source": [
    "print(confusion_matrix(y_test,y_pred))\n",
    "print(classification_report(y_test,y_pred))"
   ]
  },
  {
   "cell_type": "markdown",
   "metadata": {},
   "source": [
    "# Deep Learning"
   ]
  },
  {
   "cell_type": "code",
   "execution_count": 124,
   "metadata": {},
   "outputs": [],
   "source": [
    "from tensorflow.keras.optimizers import Adam"
   ]
  },
  {
   "cell_type": "code",
   "execution_count": 125,
   "metadata": {},
   "outputs": [
    {
     "name": "stdout",
     "output_type": "stream",
     "text": [
      "Epoch 1/50\n",
      "\u001b[1m1807/1807\u001b[0m \u001b[32m━━━━━━━━━━━━━━━━━━━━\u001b[0m\u001b[37m\u001b[0m \u001b[1m4s\u001b[0m 1ms/step - accuracy: 0.6676 - loss: 0.6287 - val_accuracy: 0.9866 - val_loss: 0.0869\n",
      "Epoch 2/50\n",
      "\u001b[1m1807/1807\u001b[0m \u001b[32m━━━━━━━━━━━━━━━━━━━━\u001b[0m\u001b[37m\u001b[0m \u001b[1m2s\u001b[0m 961us/step - accuracy: 0.9559 - loss: 0.1251 - val_accuracy: 0.9956 - val_loss: 0.0222\n",
      "Epoch 3/50\n",
      "\u001b[1m1807/1807\u001b[0m \u001b[32m━━━━━━━━━━━━━━━━━━━━\u001b[0m\u001b[37m\u001b[0m \u001b[1m2s\u001b[0m 1ms/step - accuracy: 0.9655 - loss: 0.0689 - val_accuracy: 0.9977 - val_loss: 0.0181\n",
      "Epoch 4/50\n",
      "\u001b[1m1807/1807\u001b[0m \u001b[32m━━━━━━━━━━━━━━━━━━━━\u001b[0m\u001b[37m\u001b[0m \u001b[1m2s\u001b[0m 1ms/step - accuracy: 0.9668 - loss: 0.0568 - val_accuracy: 0.9981 - val_loss: 0.0197\n",
      "Epoch 5/50\n",
      "\u001b[1m1807/1807\u001b[0m \u001b[32m━━━━━━━━━━━━━━━━━━━━\u001b[0m\u001b[37m\u001b[0m \u001b[1m2s\u001b[0m 1ms/step - accuracy: 0.9687 - loss: 0.0509 - val_accuracy: 0.9989 - val_loss: 0.0196\n",
      "Epoch 6/50\n",
      "\u001b[1m1807/1807\u001b[0m \u001b[32m━━━━━━━━━━━━━━━━━━━━\u001b[0m\u001b[37m\u001b[0m \u001b[1m2s\u001b[0m 1ms/step - accuracy: 0.9683 - loss: 0.0489 - val_accuracy: 0.9990 - val_loss: 0.0224\n",
      "Epoch 7/50\n",
      "\u001b[1m1807/1807\u001b[0m \u001b[32m━━━━━━━━━━━━━━━━━━━━\u001b[0m\u001b[37m\u001b[0m \u001b[1m2s\u001b[0m 1ms/step - accuracy: 0.9661 - loss: 0.0496 - val_accuracy: 0.9992 - val_loss: 0.0255\n",
      "Epoch 8/50\n",
      "\u001b[1m1807/1807\u001b[0m \u001b[32m━━━━━━━━━━━━━━━━━━━━\u001b[0m\u001b[37m\u001b[0m \u001b[1m3s\u001b[0m 1ms/step - accuracy: 0.9699 - loss: 0.0447 - val_accuracy: 0.9995 - val_loss: 0.0224\n",
      "Epoch 9/50\n",
      "\u001b[1m1807/1807\u001b[0m \u001b[32m━━━━━━━━━━━━━━━━━━━━\u001b[0m\u001b[37m\u001b[0m \u001b[1m2s\u001b[0m 1ms/step - accuracy: 0.9680 - loss: 0.0460 - val_accuracy: 0.9996 - val_loss: 0.0211\n",
      "Epoch 10/50\n",
      "\u001b[1m1807/1807\u001b[0m \u001b[32m━━━━━━━━━━━━━━━━━━━━\u001b[0m\u001b[37m\u001b[0m \u001b[1m2s\u001b[0m 1ms/step - accuracy: 0.9681 - loss: 0.0457 - val_accuracy: 0.9997 - val_loss: 0.0253\n",
      "Epoch 11/50\n",
      "\u001b[1m1807/1807\u001b[0m \u001b[32m━━━━━━━━━━━━━━━━━━━━\u001b[0m\u001b[37m\u001b[0m \u001b[1m2s\u001b[0m 1ms/step - accuracy: 0.9659 - loss: 0.0475 - val_accuracy: 0.9998 - val_loss: 0.0230\n",
      "Epoch 12/50\n",
      "\u001b[1m1807/1807\u001b[0m \u001b[32m━━━━━━━━━━━━━━━━━━━━\u001b[0m\u001b[37m\u001b[0m \u001b[1m3s\u001b[0m 1ms/step - accuracy: 0.9678 - loss: 0.0464 - val_accuracy: 0.9997 - val_loss: 0.0167\n",
      "Epoch 13/50\n",
      "\u001b[1m1807/1807\u001b[0m \u001b[32m━━━━━━━━━━━━━━━━━━━━\u001b[0m\u001b[37m\u001b[0m \u001b[1m2s\u001b[0m 1ms/step - accuracy: 0.9679 - loss: 0.0445 - val_accuracy: 0.9997 - val_loss: 0.0259\n",
      "Epoch 14/50\n",
      "\u001b[1m1807/1807\u001b[0m \u001b[32m━━━━━━━━━━━━━━━━━━━━\u001b[0m\u001b[37m\u001b[0m \u001b[1m2s\u001b[0m 1ms/step - accuracy: 0.9670 - loss: 0.0446 - val_accuracy: 0.9998 - val_loss: 0.0227\n",
      "Epoch 15/50\n",
      "\u001b[1m1807/1807\u001b[0m \u001b[32m━━━━━━━━━━━━━━━━━━━━\u001b[0m\u001b[37m\u001b[0m \u001b[1m2s\u001b[0m 1ms/step - accuracy: 0.9683 - loss: 0.0437 - val_accuracy: 0.9997 - val_loss: 0.0293\n",
      "Epoch 16/50\n",
      "\u001b[1m1807/1807\u001b[0m \u001b[32m━━━━━━━━━━━━━━━━━━━━\u001b[0m\u001b[37m\u001b[0m \u001b[1m3s\u001b[0m 1ms/step - accuracy: 0.9696 - loss: 0.0431 - val_accuracy: 0.9997 - val_loss: 0.0320\n",
      "Epoch 17/50\n",
      "\u001b[1m1807/1807\u001b[0m \u001b[32m━━━━━━━━━━━━━━━━━━━━\u001b[0m\u001b[37m\u001b[0m \u001b[1m2s\u001b[0m 1ms/step - accuracy: 0.9684 - loss: 0.0441 - val_accuracy: 0.9997 - val_loss: 0.0340\n",
      "Epoch 18/50\n",
      "\u001b[1m1807/1807\u001b[0m \u001b[32m━━━━━━━━━━━━━━━━━━━━\u001b[0m\u001b[37m\u001b[0m \u001b[1m2s\u001b[0m 1ms/step - accuracy: 0.9700 - loss: 0.0432 - val_accuracy: 0.9997 - val_loss: 0.0372\n",
      "Epoch 19/50\n",
      "\u001b[1m1807/1807\u001b[0m \u001b[32m━━━━━━━━━━━━━━━━━━━━\u001b[0m\u001b[37m\u001b[0m \u001b[1m2s\u001b[0m 1ms/step - accuracy: 0.9685 - loss: 0.0424 - val_accuracy: 0.9998 - val_loss: 0.0488\n",
      "Epoch 20/50\n",
      "\u001b[1m1807/1807\u001b[0m \u001b[32m━━━━━━━━━━━━━━━━━━━━\u001b[0m\u001b[37m\u001b[0m \u001b[1m2s\u001b[0m 1ms/step - accuracy: 0.9692 - loss: 0.0439 - val_accuracy: 0.9998 - val_loss: 0.0422\n",
      "Epoch 21/50\n",
      "\u001b[1m1807/1807\u001b[0m \u001b[32m━━━━━━━━━━━━━━━━━━━━\u001b[0m\u001b[37m\u001b[0m \u001b[1m2s\u001b[0m 1ms/step - accuracy: 0.9703 - loss: 0.0414 - val_accuracy: 0.9998 - val_loss: 0.0478\n",
      "Epoch 22/50\n",
      "\u001b[1m1807/1807\u001b[0m \u001b[32m━━━━━━━━━━━━━━━━━━━━\u001b[0m\u001b[37m\u001b[0m \u001b[1m2s\u001b[0m 996us/step - accuracy: 0.9671 - loss: 0.0437 - val_accuracy: 0.9997 - val_loss: 0.0504\n",
      "Epoch 23/50\n",
      "\u001b[1m1807/1807\u001b[0m \u001b[32m━━━━━━━━━━━━━━━━━━━━\u001b[0m\u001b[37m\u001b[0m \u001b[1m2s\u001b[0m 957us/step - accuracy: 0.9705 - loss: 0.0429 - val_accuracy: 0.9998 - val_loss: 0.0474\n",
      "Epoch 24/50\n",
      "\u001b[1m1807/1807\u001b[0m \u001b[32m━━━━━━━━━━━━━━━━━━━━\u001b[0m\u001b[37m\u001b[0m \u001b[1m2s\u001b[0m 958us/step - accuracy: 0.9675 - loss: 0.0440 - val_accuracy: 0.9998 - val_loss: 0.0474\n",
      "Epoch 25/50\n",
      "\u001b[1m1807/1807\u001b[0m \u001b[32m━━━━━━━━━━━━━━━━━━━━\u001b[0m\u001b[37m\u001b[0m \u001b[1m2s\u001b[0m 941us/step - accuracy: 0.9698 - loss: 0.0434 - val_accuracy: 0.9998 - val_loss: 0.0484\n",
      "Epoch 26/50\n",
      "\u001b[1m1807/1807\u001b[0m \u001b[32m━━━━━━━━━━━━━━━━━━━━\u001b[0m\u001b[37m\u001b[0m \u001b[1m2s\u001b[0m 971us/step - accuracy: 0.9690 - loss: 0.0438 - val_accuracy: 0.9998 - val_loss: 0.0527\n",
      "Epoch 27/50\n",
      "\u001b[1m1807/1807\u001b[0m \u001b[32m━━━━━━━━━━━━━━━━━━━━\u001b[0m\u001b[37m\u001b[0m \u001b[1m2s\u001b[0m 905us/step - accuracy: 0.9684 - loss: 0.0444 - val_accuracy: 0.9999 - val_loss: 0.0421\n",
      "Epoch 28/50\n",
      "\u001b[1m1807/1807\u001b[0m \u001b[32m━━━━━━━━━━━━━━━━━━━━\u001b[0m\u001b[37m\u001b[0m \u001b[1m2s\u001b[0m 898us/step - accuracy: 0.9678 - loss: 0.0441 - val_accuracy: 0.9999 - val_loss: 0.0449\n",
      "Epoch 29/50\n",
      "\u001b[1m1807/1807\u001b[0m \u001b[32m━━━━━━━━━━━━━━━━━━━━\u001b[0m\u001b[37m\u001b[0m \u001b[1m2s\u001b[0m 867us/step - accuracy: 0.9672 - loss: 0.0440 - val_accuracy: 0.9998 - val_loss: 0.0481\n",
      "Epoch 30/50\n",
      "\u001b[1m1807/1807\u001b[0m \u001b[32m━━━━━━━━━━━━━━━━━━━━\u001b[0m\u001b[37m\u001b[0m \u001b[1m3s\u001b[0m 907us/step - accuracy: 0.9671 - loss: 0.0448 - val_accuracy: 0.9999 - val_loss: 0.0446\n",
      "Epoch 31/50\n",
      "\u001b[1m1807/1807\u001b[0m \u001b[32m━━━━━━━━━━━━━━━━━━━━\u001b[0m\u001b[37m\u001b[0m \u001b[1m3s\u001b[0m 910us/step - accuracy: 0.9681 - loss: 0.0439 - val_accuracy: 0.9999 - val_loss: 0.0547\n",
      "Epoch 32/50\n",
      "\u001b[1m1807/1807\u001b[0m \u001b[32m━━━━━━━━━━━━━━━━━━━━\u001b[0m\u001b[37m\u001b[0m \u001b[1m3s\u001b[0m 899us/step - accuracy: 0.9697 - loss: 0.0428 - val_accuracy: 0.9999 - val_loss: 0.0577\n",
      "Epoch 33/50\n",
      "\u001b[1m1807/1807\u001b[0m \u001b[32m━━━━━━━━━━━━━━━━━━━━\u001b[0m\u001b[37m\u001b[0m \u001b[1m2s\u001b[0m 887us/step - accuracy: 0.9681 - loss: 0.0445 - val_accuracy: 0.9998 - val_loss: 0.0570\n",
      "Epoch 34/50\n",
      "\u001b[1m1807/1807\u001b[0m \u001b[32m━━━━━━━━━━━━━━━━━━━━\u001b[0m\u001b[37m\u001b[0m \u001b[1m2s\u001b[0m 886us/step - accuracy: 0.9697 - loss: 0.0436 - val_accuracy: 0.9997 - val_loss: 0.0578\n",
      "Epoch 35/50\n",
      "\u001b[1m1807/1807\u001b[0m \u001b[32m━━━━━━━━━━━━━━━━━━━━\u001b[0m\u001b[37m\u001b[0m \u001b[1m2s\u001b[0m 896us/step - accuracy: 0.9693 - loss: 0.0434 - val_accuracy: 0.9998 - val_loss: 0.0550\n",
      "Epoch 36/50\n",
      "\u001b[1m1807/1807\u001b[0m \u001b[32m━━━━━━━━━━━━━━━━━━━━\u001b[0m\u001b[37m\u001b[0m \u001b[1m3s\u001b[0m 894us/step - accuracy: 0.9701 - loss: 0.0427 - val_accuracy: 0.9998 - val_loss: 0.0433\n",
      "Epoch 37/50\n",
      "\u001b[1m1807/1807\u001b[0m \u001b[32m━━━━━━━━━━━━━━━━━━━━\u001b[0m\u001b[37m\u001b[0m \u001b[1m3s\u001b[0m 904us/step - accuracy: 0.9695 - loss: 0.0424 - val_accuracy: 0.9998 - val_loss: 0.0691\n",
      "Epoch 38/50\n",
      "\u001b[1m1807/1807\u001b[0m \u001b[32m━━━━━━━━━━━━━━━━━━━━\u001b[0m\u001b[37m\u001b[0m \u001b[1m2s\u001b[0m 922us/step - accuracy: 0.9695 - loss: 0.0435 - val_accuracy: 0.9998 - val_loss: 0.0283\n",
      "Epoch 39/50\n",
      "\u001b[1m1807/1807\u001b[0m \u001b[32m━━━━━━━━━━━━━━━━━━━━\u001b[0m\u001b[37m\u001b[0m \u001b[1m2s\u001b[0m 894us/step - accuracy: 0.9678 - loss: 0.0439 - val_accuracy: 0.9998 - val_loss: 0.0482\n",
      "Epoch 40/50\n",
      "\u001b[1m1807/1807\u001b[0m \u001b[32m━━━━━━━━━━━━━━━━━━━━\u001b[0m\u001b[37m\u001b[0m \u001b[1m2s\u001b[0m 885us/step - accuracy: 0.9685 - loss: 0.0422 - val_accuracy: 0.9997 - val_loss: 0.0043\n",
      "Epoch 41/50\n",
      "\u001b[1m1807/1807\u001b[0m \u001b[32m━━━━━━━━━━━━━━━━━━━━\u001b[0m\u001b[37m\u001b[0m \u001b[1m2s\u001b[0m 908us/step - accuracy: 0.9687 - loss: 0.0441 - val_accuracy: 0.9999 - val_loss: 0.0136\n",
      "Epoch 42/50\n",
      "\u001b[1m1807/1807\u001b[0m \u001b[32m━━━━━━━━━━━━━━━━━━━━\u001b[0m\u001b[37m\u001b[0m \u001b[1m2s\u001b[0m 903us/step - accuracy: 0.9680 - loss: 0.0436 - val_accuracy: 0.9999 - val_loss: 0.0232\n",
      "Epoch 43/50\n",
      "\u001b[1m1807/1807\u001b[0m \u001b[32m━━━━━━━━━━━━━━━━━━━━\u001b[0m\u001b[37m\u001b[0m \u001b[1m2s\u001b[0m 889us/step - accuracy: 0.9672 - loss: 0.0449 - val_accuracy: 0.9999 - val_loss: 0.0410\n",
      "Epoch 44/50\n",
      "\u001b[1m1807/1807\u001b[0m \u001b[32m━━━━━━━━━━━━━━━━━━━━\u001b[0m\u001b[37m\u001b[0m \u001b[1m2s\u001b[0m 900us/step - accuracy: 0.9681 - loss: 0.0475 - val_accuracy: 0.9997 - val_loss: 0.0374\n",
      "Epoch 45/50\n",
      "\u001b[1m1807/1807\u001b[0m \u001b[32m━━━━━━━━━━━━━━━━━━━━\u001b[0m\u001b[37m\u001b[0m \u001b[1m2s\u001b[0m 872us/step - accuracy: 0.9690 - loss: 0.0436 - val_accuracy: 0.9998 - val_loss: 0.0381\n",
      "Epoch 46/50\n",
      "\u001b[1m1807/1807\u001b[0m \u001b[32m━━━━━━━━━━━━━━━━━━━━\u001b[0m\u001b[37m\u001b[0m \u001b[1m2s\u001b[0m 889us/step - accuracy: 0.9689 - loss: 0.0436 - val_accuracy: 0.9998 - val_loss: 0.0381\n",
      "Epoch 47/50\n",
      "\u001b[1m1807/1807\u001b[0m \u001b[32m━━━━━━━━━━━━━━━━━━━━\u001b[0m\u001b[37m\u001b[0m \u001b[1m2s\u001b[0m 880us/step - accuracy: 0.9694 - loss: 0.0425 - val_accuracy: 0.9998 - val_loss: 0.0392\n",
      "Epoch 48/50\n",
      "\u001b[1m1807/1807\u001b[0m \u001b[32m━━━━━━━━━━━━━━━━━━━━\u001b[0m\u001b[37m\u001b[0m \u001b[1m2s\u001b[0m 899us/step - accuracy: 0.9703 - loss: 0.0416 - val_accuracy: 0.9997 - val_loss: 0.0386\n",
      "Epoch 49/50\n",
      "\u001b[1m1807/1807\u001b[0m \u001b[32m━━━━━━━━━━━━━━━━━━━━\u001b[0m\u001b[37m\u001b[0m \u001b[1m2s\u001b[0m 890us/step - accuracy: 0.9702 - loss: 0.0425 - val_accuracy: 0.9997 - val_loss: 0.0288\n",
      "Epoch 50/50\n",
      "\u001b[1m1807/1807\u001b[0m \u001b[32m━━━━━━━━━━━━━━━━━━━━\u001b[0m\u001b[37m\u001b[0m \u001b[1m2s\u001b[0m 909us/step - accuracy: 0.9680 - loss: 0.0426 - val_accuracy: 0.9998 - val_loss: 0.0301\n"
     ]
    }
   ],
   "source": [
    "from sklearn.preprocessing import StandardScaler\n",
    "sc = StandardScaler()\n",
    "X_train = sc.fit_transform(x_train)\n",
    "X_test = sc.transform(x_test)\n",
    "#Early stopping\n",
    "early_stopping = callbacks.EarlyStopping(\n",
    "    min_delta=0.001, # minimium amount of change to count as an improvement\n",
    "    patience=20, # how many epochs to wait before stopping\n",
    "    restore_best_weights=True,\n",
    ")\n",
    "\n",
    "# Initialising the NN\n",
    "model = Sequential()\n",
    "\n",
    "# layers\n",
    "\n",
    "model.add(Dense(units = 32, kernel_initializer = 'uniform', activation = 'relu', input_dim = 32))\n",
    "model.add(Dense(units = 32, kernel_initializer = 'uniform', activation = 'relu'))\n",
    "model.add(Dense(units = 16, kernel_initializer = 'uniform', activation = 'relu'))\n",
    "model.add(Dropout(0.25))\n",
    "model.add(Dense(units = 8, kernel_initializer = 'uniform', activation = 'relu'))\n",
    "model.add(Dropout(0.5))\n",
    "model.add(Dense(units = 1, kernel_initializer = 'uniform', activation = 'sigmoid'))\n",
    "\n",
    "# Compiling the ANN\n",
    "opt = Adam(learning_rate=0.00009)\n",
    "model.compile(optimizer = opt, loss = 'binary_crossentropy', metrics = ['accuracy'])\n",
    "\n",
    "# Train the ANN\n",
    "history = model.fit(X_train, y_train, batch_size = 32, epochs = 50 , validation_split=0.2)"
   ]
  },
  {
   "cell_type": "code",
   "execution_count": 126,
   "metadata": {},
   "outputs": [
    {
     "data": {
      "image/png": "[encoded data removed]",
      "text/plain": [
       "<Figure size 640x480 with 1 Axes>"
      ]
     },
     "metadata": {},
     "output_type": "display_data"
    }
   ],
   "source": [
    "#Plotting training and validation loss over epochs\n",
    "\n",
    "history_df = pd.DataFrame(history.history)\n",
    "\n",
    "plt.plot(history_df.loc[:, ['loss']], \"#BDE2E2\", label='Training loss')\n",
    "plt.plot(history_df.loc[:, ['val_loss']],\"#C2C4E2\", label='Validation loss')\n",
    "plt.title('Training and Validation loss')\n",
    "plt.xlabel('Epochs')\n",
    "plt.ylabel('Loss')\n",
    "plt.legend(loc=\"best\")\n",
    "\n",
    "plt.show()"
   ]
  },
  {
   "cell_type": "code",
   "execution_count": 127,
   "metadata": {},
   "outputs": [
    {
     "data": {
      "image/png": "[encoded data removed]",
      "text/plain": [
       "<Figure size 640x480 with 1 Axes>"
      ]
     },
     "metadata": {},
     "output_type": "display_data"
    }
   ],
   "source": [
    "#Plotting training and validation accuracy over epochs\n",
    "\n",
    "history_df = pd.DataFrame(history.history)\n",
    "\n",
    "plt.plot(history_df.loc[:, ['accuracy']], \"#BDE2E2\", label='Training accuracy')\n",
    "plt.plot(history_df.loc[:, ['val_accuracy']], \"#C2C4E2\", label='Validation accuracy')\n",
    "\n",
    "plt.title('Training and Validation accuracy')\n",
    "plt.xlabel('Epochs')\n",
    "plt.ylabel('Accuracy')\n",
    "plt.legend()\n",
    "plt.show()"
   ]
  },
  {
   "cell_type": "code",
   "execution_count": 128,
   "metadata": {},
   "outputs": [
    {
     "name": "stdout",
     "output_type": "stream",
     "text": [
      "\u001b[1m1151/1151\u001b[0m \u001b[32m━━━━━━━━━━━━━━━━━━━━\u001b[0m\u001b[37m\u001b[0m \u001b[1m1s\u001b[0m 527us/step\n"
     ]
    }
   ],
   "source": [
    "# Predicting the test set results\n",
    "y_pred = model.predict(X_test)\n",
    "y_pred = (y_pred > 0.5)"
   ]
  },
  {
   "cell_type": "code",
   "execution_count": 129,
   "metadata": {},
   "outputs": [
    {
     "data": {
      "text/plain": [
       "<Axes: >"
      ]
     },
     "execution_count": 129,
     "metadata": {},
     "output_type": "execute_result"
    },
    {
     "data": {
      "image/png": "[encoded data removed]",
      "text/plain": [
       "<Figure size 1200x800 with 2 Axes>"
      ]
     },
     "metadata": {},
     "output_type": "display_data"
    }
   ],
   "source": [
    "# confusion matrix\n",
    "cmap1 = sns.diverging_palette(260,-10,s=50, l=75, n=5, as_cmap=True)\n",
    "plt.subplots(figsize=(12,8))\n",
    "cf_matrix = confusion_matrix(y_test, y_pred)\n",
    "sns.heatmap(cf_matrix/np.sum(cf_matrix), cmap = cmap1, annot = True, annot_kws = {'size':15})"
   ]
  },
  {
   "cell_type": "code",
   "execution_count": 130,
   "metadata": {},
   "outputs": [
    {
     "name": "stdout",
     "output_type": "stream",
     "text": [
      "              precision    recall  f1-score   support\n",
      "\n",
      "           0       0.75      1.00      0.86     27794\n",
      "           1       1.00      0.00      0.00      9035\n",
      "\n",
      "    accuracy                           0.75     36829\n",
      "   macro avg       0.88      0.50      0.43     36829\n",
      "weighted avg       0.81      0.75      0.65     36829\n",
      "\n"
     ]
    }
   ],
   "source": [
    "print(classification_report(y_test, y_pred))"
   ]
  },
  {
   "cell_type": "code",
   "execution_count": 131,
   "metadata": {},
   "outputs": [
    {
     "name": "stdout",
     "output_type": "stream",
     "text": [
      "0.7548942409514241\n"
     ]
    }
   ],
   "source": [
    "print(accuracy_score(y_test,y_pred))"
   ]
  }
 ],
 "metadata": {
  "kernelspec": {
   "display_name": "python-jupyter",
   "language": "python",
   "name": "python3"
  },
  "language_info": {
   "codemirror_mode": {
    "name": "ipython",
    "version": 3
   },
   "file_extension": ".py",
   "mimetype": "text/x-python",
   "name": "python",
   "nbconvert_exporter": "python",
   "pygments_lexer": "ipython3",
   "version": "3.12.3"
  }
 },
 "nbformat": 4,
 "nbformat_minor": 2
}
